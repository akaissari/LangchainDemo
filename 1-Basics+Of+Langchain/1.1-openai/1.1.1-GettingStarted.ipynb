{
 "cells": [
  {
   "cell_type": "markdown",
   "metadata": {},
   "source": [
    "#### Getting started With Langchain And Open AI\n",
    "\n",
    "In this quickstart we'll see how to:\n",
    "\n",
    "- Get setup with LangChain, LangSmith and LangServe\n",
    "- Use the most basic and common components of LangChain: prompt templates, models, and output parsers.\n",
    "- Build a simple application with LangChain\n",
    "- Trace your application with LangSmith\n",
    "- Serve your application with LangServe"
   ]
  },
  {
   "cell_type": "code",
   "execution_count": 1,
   "metadata": {},
   "outputs": [],
   "source": [
    "import os\n",
    "from dotenv import load_dotenv\n",
    "load_dotenv()\n",
    "\n",
    "os.environ['OPENAI_API_KEY']=os.getenv(\"OPENAI_API_KEY\")\n",
    "## Langsmith Tracking\n",
    "os.environ[\"LANGCHAIN_API_KEY\"]=os.getenv(\"LANGCHAIN_API_KEY\")\n",
    "os.environ[\"LANGCHAIN_TRACING_V2\"]=\"true\"\n",
    "os.environ[\"LANGCHAIN_PROJECT\"]=os.getenv(\"LANGCHAIN_PROJECT\")"
   ]
  },
  {
   "cell_type": "code",
   "execution_count": 2,
   "metadata": {},
   "outputs": [
    {
     "name": "stdout",
     "output_type": "stream",
     "text": [
      "client=<openai.resources.chat.completions.Completions object at 0x106df9b90> async_client=<openai.resources.chat.completions.AsyncCompletions object at 0x107262d10> model_name='gpt-4o-mini' openai_api_key=SecretStr('**********') openai_proxy=''\n"
     ]
    }
   ],
   "source": [
    "from langchain_openai import ChatOpenAI\n",
    "llm=ChatOpenAI(model=\"gpt-4o-mini\")\n",
    "print(llm)"
   ]
  },
  {
   "cell_type": "code",
   "execution_count": 3,
   "metadata": {},
   "outputs": [],
   "source": [
    "## Input and get response form LLM\n",
    "\n",
    "result=llm.invoke(\"What is generative AI?\")"
   ]
  },
  {
   "cell_type": "code",
   "execution_count": 4,
   "metadata": {},
   "outputs": [
    {
     "name": "stdout",
     "output_type": "stream",
     "text": [
      "content='Generative AI refers to a category of artificial intelligence systems that are designed to generate new content, such as text, images, audio, or video, by learning patterns and structures from existing data. This technology utilizes machine learning models, particularly deep learning techniques, to create original outputs based on the input it receives.\\n\\nKey aspects of generative AI include:\\n\\n1. **Model Types**: Generative AI can be implemented using various types of models, including Generative Adversarial Networks (GANs), Variational Autoencoders (VAEs), and transformer-based models (like GPT-3 and DALL-E).\\n\\n2. **Applications**: It has a wide range of applications, including:\\n   - **Text Generation**: Creating articles, poetry, stories, and dialogue.\\n   - **Image Generation**: Producing realistic images or artwork based on textual descriptions or other images.\\n   - **Music Composition**: Composing original music or generating sound effects.\\n   - **Video Creation**: Generating short clips or animations based on scripts or themes.\\n\\n3. **Training Data**: Generative AI models are trained on large datasets that contain examples of the type of content they are expected to generate. For instance, a text-generating model might be trained on a diverse range of written material to learn language patterns.\\n\\n4. **Creativity and Innovation**: Generative AI can assist in creative processes, providing artists, writers, and designers with tools to explore new ideas or enhance their work.\\n\\n5. **Ethical Considerations**: The use of generative AI raises important ethical questions, including issues related to copyright, misinformation, and the potential for misuse in creating deepfakes or other deceptive content.\\n\\nOverall, generative AI represents a powerful and rapidly evolving area of artificial intelligence, with the potential to transform various industries by automating and enhancing content creation processes.' response_metadata={'token_usage': {'completion_tokens': 376, 'prompt_tokens': 13, 'total_tokens': 389}, 'model_name': 'gpt-4o-mini-2024-07-18', 'system_fingerprint': 'fp_48196bc67a', 'finish_reason': 'stop', 'logprobs': None} id='run-f8b74890-4155-4bc8-aea5-f1c4df87254c-0' usage_metadata={'input_tokens': 13, 'output_tokens': 376, 'total_tokens': 389}\n"
     ]
    }
   ],
   "source": [
    "print(result)"
   ]
  },
  {
   "cell_type": "code",
   "execution_count": 5,
   "metadata": {},
   "outputs": [
    {
     "data": {
      "text/plain": [
       "ChatPromptTemplate(input_variables=['input'], messages=[SystemMessagePromptTemplate(prompt=PromptTemplate(input_variables=[], template='You are an expert AI Engineer. Provide me answers based on the questions')), HumanMessagePromptTemplate(prompt=PromptTemplate(input_variables=['input'], template='{input}'))])"
      ]
     },
     "execution_count": 5,
     "metadata": {},
     "output_type": "execute_result"
    }
   ],
   "source": [
    "### Chatprompt Template\n",
    "from langchain_core.prompts import ChatPromptTemplate\n",
    "\n",
    "prompt=ChatPromptTemplate.from_messages(\n",
    "    [\n",
    "        (\"system\",\"You are an expert AI Engineer. Provide me answers based on the questions\"),\n",
    "        (\"user\",\"{input}\")\n",
    "    ]\n",
    "\n",
    ")\n",
    "prompt"
   ]
  },
  {
   "cell_type": "code",
   "execution_count": 6,
   "metadata": {},
   "outputs": [
    {
     "name": "stdout",
     "output_type": "stream",
     "text": [
      "content='As of my last knowledge update in October 2023, Langsmith is a tool designed to streamline the development and deployment of applications that utilize large language models (LLMs). It helps developers to effectively manage their interactions with LLMs by providing features that facilitate prompt engineering, version control, and testing of various model outputs.\\n\\nLangsmith emphasizes usability and efficiency, making it easier for teams to collaborate on LLM-based projects, track changes, and optimize their prompts for better performance. This tool can be particularly useful for businesses looking to leverage AI in their applications without getting bogged down by the complexities of managing LLM interactions.\\n\\nIf you have specific aspects of Langsmith you’re interested in or need more detailed information, feel free to ask!' response_metadata={'token_usage': {'completion_tokens': 148, 'prompt_tokens': 33, 'total_tokens': 181}, 'model_name': 'gpt-4o-mini-2024-07-18', 'system_fingerprint': 'fp_507c9469a1', 'finish_reason': 'stop', 'logprobs': None} id='run-2be378bd-a4f5-416c-a2f5-474f3964e4df-0' usage_metadata={'input_tokens': 33, 'output_tokens': 148, 'total_tokens': 181}\n"
     ]
    }
   ],
   "source": [
    "## chain \n",
    "chain=prompt|llm\n",
    "\n",
    "response=chain.invoke({\"input\":\"Can you tell me about Langsmith?\"})\n",
    "print(response)"
   ]
  },
  {
   "cell_type": "code",
   "execution_count": 7,
   "metadata": {},
   "outputs": [
    {
     "data": {
      "text/plain": [
       "langchain_core.messages.ai.AIMessage"
      ]
     },
     "execution_count": 7,
     "metadata": {},
     "output_type": "execute_result"
    }
   ],
   "source": [
    "type(response)"
   ]
  },
  {
   "cell_type": "code",
   "execution_count": 10,
   "metadata": {},
   "outputs": [
    {
     "name": "stdout",
     "output_type": "stream",
     "text": [
      "{'answer': {'name': 'Langsmith', 'type': 'AI Tool', 'description': 'Langsmith is a platform designed to facilitate the development and deployment of AI models, particularly in the realm of natural language processing (NLP). It provides tools and frameworks for building, training, and fine-tuning language models.', 'features': ['User-friendly interface for model training', 'Support for various NLP tasks such as text generation, sentiment analysis, and translation', 'Integration capabilities with popular machine learning libraries', 'Collaboration tools for teams working on AI projects', 'Performance monitoring and analytics for deployed models'], 'use_cases': ['Developing chatbots and virtual assistants', 'Automating content generation', 'Analyzing customer feedback and sentiment', 'Creating language-based applications for specific industries'], 'target_audience': ['Data scientists', 'AI researchers', 'Businesses looking to implement AI solutions', 'Developers interested in NLP']}}\n"
     ]
    }
   ],
   "source": [
    "## stroutput Parser\n",
    "\n",
    "from langchain_core.output_parsers import StrOutputParser, JsonOutputParser\n",
    "output_parser=JsonOutputParser()\n",
    "chain=prompt|llm|output_parser\n",
    "\n",
    "response=chain.invoke({\"input\":\"Can you tell me about Langsmith on a json format {answer : }?\"})\n",
    "print(response)"
   ]
  },
  {
   "cell_type": "code",
   "execution_count": null,
   "metadata": {},
   "outputs": [],
   "source": []
  },
  {
   "cell_type": "code",
   "execution_count": null,
   "metadata": {},
   "outputs": [],
   "source": []
  },
  {
   "cell_type": "code",
   "execution_count": null,
   "metadata": {},
   "outputs": [],
   "source": []
  },
  {
   "cell_type": "code",
   "execution_count": null,
   "metadata": {},
   "outputs": [],
   "source": []
  },
  {
   "cell_type": "code",
   "execution_count": null,
   "metadata": {},
   "outputs": [],
   "source": []
  },
  {
   "cell_type": "code",
   "execution_count": null,
   "metadata": {},
   "outputs": [],
   "source": []
  },
  {
   "cell_type": "code",
   "execution_count": null,
   "metadata": {},
   "outputs": [],
   "source": []
  },
  {
   "cell_type": "code",
   "execution_count": null,
   "metadata": {},
   "outputs": [],
   "source": []
  },
  {
   "cell_type": "code",
   "execution_count": null,
   "metadata": {},
   "outputs": [],
   "source": []
  }
 ],
 "metadata": {
  "kernelspec": {
   "display_name": "Python 3",
   "language": "python",
   "name": "python3"
  },
  "language_info": {
   "codemirror_mode": {
    "name": "ipython",
    "version": 3
   },
   "file_extension": ".py",
   "mimetype": "text/x-python",
   "name": "python",
   "nbconvert_exporter": "python",
   "pygments_lexer": "ipython3",
   "version": "3.11.4"
  }
 },
 "nbformat": 4,
 "nbformat_minor": 2
}
